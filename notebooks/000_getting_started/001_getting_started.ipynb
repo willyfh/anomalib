{
    "cells": [
        {
            "attachments": {},
            "cell_type": "markdown",
            "metadata": {},
            "source": [
                "<center><img src=\"https://raw.githubusercontent.com/openvinotoolkit/anomalib/main/docs/source/images/logos/anomalib-wide-blue.png\" alt=\"Paris\" class=\"center\"></center>\n",
                "\n",
                "<center>💙 A library for benchmarking, developing and deploying deep learning anomaly detection algorithms</center>\n",
                "\n",
                "---\n",
                "\n",
                "> NOTE:\n",
                "> This notebook is originally created by @innat on [Kaggle](https://www.kaggle.com/code/ipythonx/mvtec-ad-anomaly-detection-with-anomalib-library/notebook).\n",
                "\n",
                "[Anomalib](https://github.com/openvinotoolkit/anomalib): Anomalib is a deep learning library that aims to collect state-of-the-art anomaly detection algorithms for benchmarking on both public and private datasets. Anomalib provides several ready-to-use implementations of anomaly detection algorithms described in the recent literature, as well as a set of tools that facilitate the development and implementation of custom models. The library has a strong focus on image-based anomaly detection, where the goal of the algorithm is to identify anomalous images, or anomalous pixel regions within images in a dataset.\n",
                "\n",
                "The library supports [`MVTec AD`](https://www.mvtec.com/company/research/datasets/mvtec-ad) (CC BY-NC-SA 4.0) and [`BeanTech`](https://paperswithcode.com/dataset/btad) (CC-BY-SA) for **benchmarking** and `folder` for custom dataset **training/inference**. In this notebook, we will explore `anomalib` training a PADIM model on the `MVTec AD` bottle dataset and evaluating the model's performance. The sections in this notebook explores the steps in `tools/train.py` more in detail. Those who would like to reproduce the results via CLI could use `python tools/train.py --model padim`.\n"
            ]
        },
        {
            "attachments": {},
            "cell_type": "markdown",
            "metadata": {},
            "source": [
                "## Installing Anomalib\n"
            ]
        },
        {
            "attachments": {},
            "cell_type": "markdown",
            "metadata": {},
            "source": [
                "Installation can be done in two ways: (i) install via PyPI, or (ii) installing from sourc, both of which are shown below:\n"
            ]
        },
        {
            "attachments": {},
            "cell_type": "markdown",
            "metadata": {},
            "source": [
                "### I. Install via PyPI\n"
            ]
        },
        {
            "cell_type": "code",
            "execution_count": null,
            "metadata": {},
            "outputs": [],
            "source": [
                "# Option - I: Uncomment the next line if you want to install via pip.\n",
                "# %pip install anomalib"
            ]
        },
        {
            "attachments": {},
            "cell_type": "markdown",
            "metadata": {},
            "source": [
                "### II. Install from Source\n",
                "\n",
                "This option would initially download anomalib repository from github and manually install `anomalib` from source, which is shown below:\n"
            ]
        },
        {
            "cell_type": "code",
            "execution_count": null,
            "metadata": {},
            "outputs": [],
            "source": [
                "# Option - II: Uncomment the next three lines if you want to install from the source.\n",
                "# !git clone https://github.com/openvinotoolkit/anomalib.git\n",
                "# %cd anomalib\n",
                "# %pip install ."
            ]
        },
        {
            "attachments": {},
            "cell_type": "markdown",
            "metadata": {},
            "source": [
                "Now let's verify the working directory. This is to access the datasets and configs when the notebook is run from different platforms such as local or Google Colab.\n"
            ]
        },
        {
            "cell_type": "code",
            "execution_count": null,
            "metadata": {},
            "outputs": [],
            "source": [
                "import os\n",
                "from pathlib import Path\n",
                "from typing import Any\n",
                "\n",
                "from git.repo import Repo\n",
                "\n",
                "current_directory = Path.cwd()\n",
                "if current_directory.name == \"000_getting_started\":\n",
                "    # On the assumption that, the notebook is located in\n",
                "    #   ~/anomalib/notebooks/000_getting_started/\n",
                "    root_directory = current_directory.parent.parent\n",
                "elif current_directory.name == \"anomalib\":\n",
                "    # This means that the notebook is run from the main anomalib directory.\n",
                "    root_directory = current_directory\n",
                "else:\n",
                "    # Otherwise, we'll need to clone the anomalib repo to the `current_directory`\n",
                "    repo = Repo.clone_from(url=\"https://github.com/openvinotoolkit/anomalib.git\", to_path=current_directory)\n",
                "    root_directory = current_directory / \"anomalib\"\n",
                "\n",
                "os.chdir(root_directory)"
            ]
        },
        {
            "attachments": {},
            "cell_type": "markdown",
            "metadata": {},
            "source": [
                "## Imports\n"
            ]
        },
        {
            "cell_type": "code",
            "execution_count": null,
            "metadata": {},
            "outputs": [],
            "source": [
                "import numpy as np\n",
                "from matplotlib import pyplot as plt\n",
                "from PIL import Image\n",
                "from anomalib.engine import Engine\n",
                "from torchvision.transforms import ToPILImage\n",
                "\n",
                "from anomalib.data import MVTec\n",
                "from anomalib.data.utils import read_image\n",
                "from anomalib.deploy import OpenVINOInferencer, ExportType\n",
                "from anomalib.models import Padim\n",
                "from anomalib import TaskType"
            ]
        },
        {
            "attachments": {},
            "cell_type": "markdown",
            "metadata": {},
            "source": [
                "## Model\n",
                "\n",
                "Currently, there are **13** anomaly detection models available in `anomalib` library. Namely,\n",
                "\n",
                "- [CFA](https://arxiv.org/abs/2206.04325)\n",
                "- [CS-Flow](https://arxiv.org/abs/2110.02855v1)\n",
                "- [CFlow](https://arxiv.org/pdf/2107.12571v1.pdf)\n",
                "- [DFKDE](https://github.com/openvinotoolkit/anomalib/tree/main/anomalib/models/dfkde)\n",
                "- [DFM](https://arxiv.org/pdf/1909.11786.pdf)\n",
                "- [DRAEM](https://arxiv.org/abs/2108.07610)\n",
                "- [FastFlow](https://arxiv.org/abs/2111.07677)\n",
                "- [Ganomaly](https://arxiv.org/abs/1805.06725)\n",
                "- [Padim](https://arxiv.org/pdf/2011.08785.pdf)\n",
                "- [Patchcore](https://arxiv.org/pdf/2106.08265.pdf)\n",
                "- [Reverse Distillation](https://arxiv.org/abs/2201.10703)\n",
                "- [R-KDE](https://ieeexplore.ieee.org/document/8999287)\n",
                "- [STFPM](https://arxiv.org/pdf/2103.04257.pdf)\n",
                "\n",
                "In this tutorial, we'll be using [Padim](https://arxiv.org/pdf/2011.08785.pdf).\n"
            ]
        },
        {
            "attachments": {},
            "cell_type": "markdown",
            "metadata": {},
            "source": [
                "## Dataset: MVTec AD\n",
                "\n",
                "**MVTec AD** is a dataset for benchmarking anomaly detection methods with a focus on industrial inspection. It contains over **5000** high-resolution images divided into **15** different object and texture categories. Each category comprises a set of defect-free training images and a test set of images with various kinds of defects as well as images without defects. If the dataset is not located in the root datasets directory, anomalib will automatically install the dataset.\n",
                "\n",
                "We could now import the MVtec AD dataset using its specific datamodule implemented in anomalib.\n"
            ]
        },
        {
            "cell_type": "code",
            "execution_count": null,
            "metadata": {},
            "outputs": [],
            "source": [
                "datamodule = MVTec()\n",
                "datamodule.prepare_data()  # Downloads the dataset if it's not in the specified `root` directory\n",
                "datamodule.setup()  # Create train/val/test/prediction sets.\n",
                "\n",
                "i, data = next(enumerate(datamodule.val_dataloader()))\n",
                "print(data.keys())"
            ]
        },
        {
            "attachments": {},
            "cell_type": "markdown",
            "metadata": {},
            "source": [
                "Let's check the shapes of the input images and masks.\n"
            ]
        },
        {
            "cell_type": "code",
            "execution_count": null,
            "metadata": {},
            "outputs": [],
            "source": [
                "print(data[\"image\"].shape, data[\"mask\"].shape)"
            ]
        },
        {
            "attachments": {},
            "cell_type": "markdown",
            "metadata": {},
            "source": [
                "We could now visualize a normal and abnormal sample from the validation set.\n"
            ]
        },
        {
            "cell_type": "code",
            "execution_count": null,
            "metadata": {},
            "outputs": [],
            "source": [
                "def show_image_and_mask(sample: dict[str, Any], index: int) -> Image:\n",
                "    \"\"\"Show an image with a mask.\n",
                "\n",
                "    Args:\n",
                "        sample (dict[str, Any]): Sample from the dataset.\n",
                "        index (int): Index of the sample.\n",
                "\n",
                "    Returns:\n",
                "        Image: Output image with a mask.\n",
                "    \"\"\"\n",
                "    # Load the image from the path\n",
                "    image = Image.open(sample[\"image_path\"][index])\n",
                "\n",
                "    # Load the mask and convert it to RGB\n",
                "    mask = ToPILImage()(sample[\"mask\"][index]).convert(\"RGB\")\n",
                "\n",
                "    # Resize mask to match image size, if they differ\n",
                "    if image.size != mask.size:\n",
                "        mask = mask.resize(image.size)\n",
                "\n",
                "    return Image.fromarray(np.hstack((np.array(image), np.array(mask))))\n",
                "\n",
                "\n",
                "# Visualize an image with a mask\n",
                "show_image_and_mask(data, index=0)"
            ]
        },
        {
            "attachments": {},
            "cell_type": "markdown",
            "metadata": {},
            "source": [
                "## Prepare Model\n",
                "\n",
                "Let's create the Padim and train it."
            ]
        },
        {
            "cell_type": "code",
            "execution_count": null,
            "metadata": {},
            "outputs": [],
            "source": [
                "# Get the model\n",
                "model = Padim()"
            ]
        },
        {
            "cell_type": "code",
            "execution_count": null,
            "metadata": {},
            "outputs": [],
            "source": [
                "# start training\n",
                "engine = Engine(task=TaskType.SEGMENTATION)\n",
                "engine.fit(model=model, datamodule=datamodule)"
            ]
        },
        {
            "attachments": {},
            "cell_type": "markdown",
            "metadata": {},
            "source": [
                "## Validation\n"
            ]
        },
        {
            "cell_type": "code",
            "execution_count": null,
            "metadata": {},
            "outputs": [],
            "source": [
                "# load best model from checkpoint before evaluating\n",
                "test_results = engine.test(\n",
                "    model=model,\n",
                "    datamodule=datamodule,\n",
                "    ckpt_path=engine.trainer.checkpoint_callback.best_model_path,\n",
                ")"
            ]
        },
        {
            "attachments": {},
            "cell_type": "markdown",
            "metadata": {},
            "source": [
                "## OpenVINO Inference\n",
                "\n",
                "Now that we trained and tested a model, we could check a single inference result using OpenVINO inferencer object. This will demonstrate how a trained model could be used for inference.\n"
            ]
        },
        {
            "cell_type": "markdown",
            "metadata": {},
            "source": [
                "Before we can use OpenVINO inference, let's export the model to OpenVINO format first."
            ]
        },
        {
            "cell_type": "code",
            "execution_count": null,
            "metadata": {},
            "outputs": [],
            "source": [
                "engine.export(\n",
                "    model=model,\n",
                "    export_type=ExportType.OPENVINO,\n",
                "    datamodule=datamodule,\n",
                "    input_size=(256, 256),\n",
                ")"
            ]
        },
        {
            "attachments": {},
            "cell_type": "markdown",
            "metadata": {},
            "source": [
                "### Load a Test Image\n",
                "\n",
                "Let's read an image from the test set and perform inference using OpenVINO inferencer.\n"
            ]
        },
        {
            "cell_type": "code",
            "execution_count": null,
            "metadata": {},
            "outputs": [],
            "source": [
                "image_path = root_directory / \"datasets/MVTec/bottle/test/broken_large/000.png\"\n",
                "image = read_image(path=\"./datasets/MVTec/bottle/test/broken_large/000.png\")\n",
                "plt.imshow(image)"
            ]
        },
        {
            "attachments": {},
            "cell_type": "markdown",
            "metadata": {},
            "source": [
                "### Load the OpenVINO Model\n",
                "\n",
                "By default, the output files are saved into `results` directory. Let's check where the OpenVINO model is stored.\n"
            ]
        },
        {
            "cell_type": "code",
            "execution_count": null,
            "metadata": {},
            "outputs": [],
            "source": [
                "output_path = Path(engine.trainer.default_root_dir)\n",
                "print(output_path)"
            ]
        },
        {
            "cell_type": "code",
            "execution_count": null,
            "metadata": {},
            "outputs": [],
            "source": [
                "openvino_model_path = output_path / \"weights\" / \"openvino\" / \"model.bin\"\n",
                "metadata = output_path / \"weights\" / \"openvino\" / \"metadata.json\"\n",
                "print(openvino_model_path.exists(), metadata.exists())"
            ]
        },
        {
            "cell_type": "code",
            "execution_count": null,
            "metadata": {},
            "outputs": [],
            "source": [
                "inferencer = OpenVINOInferencer(\n",
                "    path=openvino_model_path,  # Path to the OpenVINO IR model.\n",
                "    metadata=metadata,  # Path to the metadata file.\n",
                "    device=\"CPU\",  # We would like to run it on an Intel CPU.\n",
                ")"
            ]
        },
        {
            "attachments": {},
            "cell_type": "markdown",
            "metadata": {},
            "source": [
                "### Perform Inference\n",
                "\n",
                "Predicting an image using OpenVINO inferencer is as simple as calling `predict` method.\n"
            ]
        },
        {
            "cell_type": "code",
            "execution_count": null,
            "metadata": {},
            "outputs": [],
            "source": [
                "print(image.shape)"
            ]
        },
        {
            "cell_type": "code",
            "execution_count": null,
            "metadata": {},
            "outputs": [],
            "source": [
                "predictions = inferencer.predict(image=image)"
            ]
        },
        {
            "attachments": {},
            "cell_type": "markdown",
            "metadata": {},
            "source": [
                "where `predictions` contain any relevant information regarding the task type. For example, predictions for a segmentation model could contain image, anomaly maps, predicted scores, labels or masks.\n"
            ]
        },
        {
            "attachments": {},
            "cell_type": "markdown",
            "metadata": {},
            "source": [
                "### Visualizing Inference Results\n"
            ]
        },
        {
            "cell_type": "code",
            "execution_count": null,
            "metadata": {},
            "outputs": [],
            "source": [
                "print(predictions.pred_score, predictions.pred_label)"
            ]
        },
        {
            "cell_type": "code",
            "execution_count": null,
            "metadata": {},
            "outputs": [],
            "source": [
                "# Visualize the original image\n",
                "plt.imshow(predictions.image)"
            ]
        },
        {
            "cell_type": "code",
            "execution_count": null,
            "metadata": {},
            "outputs": [],
            "source": [
                "# Visualize the raw anomaly maps predicted by the model.\n",
                "plt.imshow(predictions.anomaly_map)"
            ]
        },
        {
            "cell_type": "code",
            "execution_count": null,
            "metadata": {},
            "outputs": [],
            "source": [
                "# Visualize the heatmaps, on which raw anomaly map is overlayed on the original image.\n",
                "plt.imshow(predictions.heat_map)"
            ]
        },
        {
            "cell_type": "code",
            "execution_count": null,
            "metadata": {},
            "outputs": [],
            "source": [
                "# Visualize the segmentation mask.\n",
                "plt.imshow(predictions.pred_mask)"
            ]
        },
        {
            "cell_type": "code",
            "execution_count": null,
            "metadata": {},
            "outputs": [],
            "source": [
                "# Visualize the segmentation mask with the original image.\n",
                "plt.imshow(predictions.segmentations)"
            ]
        },
        {
            "attachments": {},
            "cell_type": "markdown",
            "metadata": {},
            "source": [
                "This wraps the `getting_started` notebook. There are a lot more functionalities that could be explored in the library. Please refer to the [documentation](https://openvinotoolkit.github.io/anomalib/) for more details.\n"
            ]
        }
    ],
    "metadata": {
        "kernelspec": {
            "display_name": "anomalib",
            "language": "python",
            "name": "python3"
        },
        "language_info": {
            "codemirror_mode": {
                "name": "ipython",
                "version": 3
            },
            "file_extension": ".py",
            "mimetype": "text/x-python",
            "name": "python",
            "nbconvert_exporter": "python",
            "pygments_lexer": "ipython3",
            "version": "3.10.13"
        },
        "orig_nbformat": 4,
        "vscode": {
            "interpreter": {
                "hash": "ae223df28f60859a2f400fae8b3a1034248e0a469f5599fd9a89c32908ed7a84"
            }
        }
    },
    "nbformat": 4,
    "nbformat_minor": 2
}
